{
 "cells": [
  {
   "cell_type": "code",
   "execution_count": 2,
   "metadata": {},
   "outputs": [],
   "source": [
    "import scrapy\n",
    "from scrapy.http import TextResponse\n",
    "from scrapy.http import HtmlResponse\n"
   ]
  },
  {
   "cell_type": "code",
   "execution_count": 3,
   "metadata": {},
   "outputs": [],
   "source": [
    "csvfile01 = \"tbl01\"\n",
    "csvfile02 = \"tbl02\"\n",
    "csvfile03 = \"tbl03\"\n",
    "\n",
    "class scraptbl(scrapy.Spider):\n",
    "    name = \"scraptbl\"\n",
    "    start_urls = ['https://tradingeconomics.com/country-list/interest-rate?continent=world']\n",
    "\n",
    "    #def parse(self, response):\n",
    "    #    #link = response.xpath('//a[contains(@class, \"next-posts-link\")]/a/@href').get()  # extract using class\n",
    "    #    title = response.xpath('//span[@id=\"ctl00_ContentPlaceHolder1_ctl02_UpdatePanel1\"]/text()').get()  # extract using id\n",
    "    #    print(title)\n",
    "\n",
    "\n"
   ]
  }
 ],
 "metadata": {
  "interpreter": {
   "hash": "f9f85f796d01129d0dd105a088854619f454435301f6ffec2fea96ecbd9be4ac"
  },
  "kernelspec": {
   "display_name": "Python 3.9.12 64-bit",
   "language": "python",
   "name": "python3"
  },
  "language_info": {
   "codemirror_mode": {
    "name": "ipython",
    "version": 3
   },
   "file_extension": ".py",
   "mimetype": "text/x-python",
   "name": "python",
   "nbconvert_exporter": "python",
   "pygments_lexer": "ipython3",
   "version": "3.9.12"
  },
  "orig_nbformat": 4
 },
 "nbformat": 4,
 "nbformat_minor": 2
}
